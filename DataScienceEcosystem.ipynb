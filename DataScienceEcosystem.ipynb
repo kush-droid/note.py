{
  "metadata": {
    "kernelspec": {
      "name": "python",
      "display_name": "Python (Pyodide)",
      "language": "python"
    },
    "language_info": {
      "codemirror_mode": {
        "name": "python",
        "version": 3
      },
      "file_extension": ".py",
      "mimetype": "text/x-python",
      "name": "python",
      "nbconvert_exporter": "python",
      "pygments_lexer": "ipython3",
      "version": "3.8"
    }
  },
  "nbformat_minor": 4,
  "nbformat": 4,
  "cells": [
    {
      "cell_type": "markdown",
      "source": "# Data Science Ecosystem",
      "metadata": {}
    },
    {
      "cell_type": "markdown",
      "source": "## Introduction\n- This is an assignment regarding the course i'm currently enrolled in\n- The contents of this notebook include\n* List of Data Science Languages\n* Data Science Libraries\n* Data Science Tools\n* Some Examples of Arithmetic Expressions\n* Program to multiply and subtract 2 numbers\n* Program to convert minutes to hours\n* Objective of creating this notebook\n* Name of author",
      "metadata": {}
    },
    {
      "cell_type": "markdown",
      "source": "## List of Data Science Languages\n- Python\n- Structured Query Language\n- C,C+,C++\n- Scala\n- Java\n- R language\n- Javascript",
      "metadata": {}
    },
    {
      "cell_type": "markdown",
      "source": "## Data Science Libraries\n| Programming language | Libraries |\n|----------------------|-----------|\n|Python|Pandas,Numpy,Matplotlib|\n|Scala|Vegas,Big DL|\n|R language|dplyr,stringr,ggplot|",
      "metadata": {}
    },
    {
      "cell_type": "markdown",
      "source": "## Data Science Tools\n|Data Science Process|Tool to be used|\n|--------------------|---------------|\n|Data Management|Mysql,postgresql,ceph|\n|Data ETL|apache airflow,kubeflow,spark|\n|Data Visualization|Pixiedust,Hue,Superset|\n|Model Building|IBM Watson Studio|\n|Model Deployment|Apache Prediction IO,Seldon|\n|Model Monitoring|ModelDB,Prometheus|\n|Code Asset Management|Git,Github,Gitlab|\n|Data Asset Management|apache Atlas,Kylo|",
      "metadata": {}
    },
    {
      "cell_type": "markdown",
      "source": "## Arithmetic Expression Examples\n- '7+3' is an expression involving '+' operator which results in '10'\n- '7-1' is an expression involving '-' operator which results in '6'\n- '7*2' is an expression involving '*' operator which results in '14'\n- '7/7' is an expression involving '/' operator which results in '1.0'",
      "metadata": {}
    },
    {
      "cell_type": "markdown",
      "source": "## Arithmetic Program",
      "metadata": {}
    },
    {
      "cell_type": "markdown",
      "source": "### Multiplication",
      "metadata": {}
    },
    {
      "cell_type": "code",
      "source": "a=5\nb=6\nproduct=a*b\nprint(\"the product is \",product)",
      "metadata": {
        "trusted": true
      },
      "outputs": [],
      "execution_count": null
    },
    {
      "cell_type": "markdown",
      "source": "## Addition",
      "metadata": {}
    },
    {
      "cell_type": "code",
      "source": "a=9\nb=89\nsum=a+b\nprint(\"the sum is \",sum)",
      "metadata": {
        "trusted": true
      },
      "outputs": [],
      "execution_count": null
    },
    {
      "cell_type": "markdown",
      "source": "## Program to convert minutes to hours",
      "metadata": {}
    },
    {
      "cell_type": "code",
      "source": "min=int(input(\"Enter time in minutes\"))\nhour=min/60\nprint(\"time in hours is\",hour)",
      "metadata": {
        "trusted": true
      },
      "outputs": [],
      "execution_count": null
    },
    {
      "cell_type": "markdown",
      "source": "## Objectives\n- Learnt to create a notebook\n- Learnt to insert a heading in a markdown cell\n- Learnt to insert a code in a code cell\n- Learnt to create a table in a markdown cell\n- Learnt to create an unordered list in a markdown cell",
      "metadata": {}
    },
    {
      "cell_type": "markdown",
      "source": "# Author\n- Kushaal Veeraraghav",
      "metadata": {}
    },
    {
      "cell_type": "code",
      "source": "",
      "metadata": {
        "trusted": true
      },
      "outputs": [],
      "execution_count": null
    }
  ]
}